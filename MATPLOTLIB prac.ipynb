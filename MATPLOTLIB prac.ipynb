{
 "cells": [
  {
   "cell_type": "code",
   "execution_count": 1,
   "id": "62abd66b",
   "metadata": {},
   "outputs": [
    {
     "name": "stdout",
     "output_type": "stream",
     "text": [
      "Requirement already satisfied: matplotlib in c:\\users\\rohit\\anaconda3\\lib\\site-packages (3.5.1)\n",
      "Requirement already satisfied: fonttools>=4.22.0 in c:\\users\\rohit\\anaconda3\\lib\\site-packages (from matplotlib) (4.25.0)\n",
      "Requirement already satisfied: pillow>=6.2.0 in c:\\users\\rohit\\anaconda3\\lib\\site-packages (from matplotlib) (9.0.1)\n",
      "Requirement already satisfied: numpy>=1.17 in c:\\users\\rohit\\anaconda3\\lib\\site-packages (from matplotlib) (1.21.5)\n",
      "Requirement already satisfied: kiwisolver>=1.0.1 in c:\\users\\rohit\\anaconda3\\lib\\site-packages (from matplotlib) (1.3.2)\n",
      "Requirement already satisfied: cycler>=0.10 in c:\\users\\rohit\\anaconda3\\lib\\site-packages (from matplotlib) (0.11.0)\n",
      "Requirement already satisfied: pyparsing>=2.2.1 in c:\\users\\rohit\\anaconda3\\lib\\site-packages (from matplotlib) (3.0.4)\n",
      "Requirement already satisfied: packaging>=20.0 in c:\\users\\rohit\\anaconda3\\lib\\site-packages (from matplotlib) (21.3)\n",
      "Requirement already satisfied: python-dateutil>=2.7 in c:\\users\\rohit\\anaconda3\\lib\\site-packages (from matplotlib) (2.8.2)\n",
      "Requirement already satisfied: six>=1.5 in c:\\users\\rohit\\anaconda3\\lib\\site-packages (from python-dateutil>=2.7->matplotlib) (1.16.0)\n",
      "Note: you may need to restart the kernel to use updated packages.\n"
     ]
    }
   ],
   "source": [
    "pip install matplotlib"
   ]
  },
  {
   "cell_type": "code",
   "execution_count": 1,
   "id": "02eddd2a",
   "metadata": {},
   "outputs": [],
   "source": [
    "import matplotlib.pyplot as plt"
   ]
  },
  {
   "cell_type": "code",
   "execution_count": 2,
   "id": "92ce389c",
   "metadata": {},
   "outputs": [],
   "source": [
    "x = [4,9]\n",
    "y = [6,12]"
   ]
  },
  {
   "cell_type": "code",
   "execution_count": 3,
   "id": "786fac91",
   "metadata": {
    "scrolled": true
   },
   "outputs": [
    {
     "data": {
      "text/plain": [
       "[<matplotlib.lines.Line2D at 0x1f18f706d90>]"
      ]
     },
     "execution_count": 3,
     "metadata": {},
     "output_type": "execute_result"
    },
    {
     "data": {
      "image/png": "[encoded data removed]",
      "text/plain": [
       "<Figure size 432x288 with 1 Axes>"
      ]
     },
     "metadata": {
      "needs_background": "light"
     },
     "output_type": "display_data"
    }
   ],
   "source": [
    "# to plot the chart use this function\n",
    "plt.plot(x,y)"
   ]
  },
  {
   "cell_type": "code",
   "execution_count": 4,
   "id": "390187af",
   "metadata": {},
   "outputs": [],
   "source": [
    "a = [4,5,8,6,9]\n",
    "b = [6,4,6,7,1]"
   ]
  },
  {
   "cell_type": "code",
   "execution_count": 5,
   "id": "b311bceb",
   "metadata": {},
   "outputs": [
    {
     "data": {
      "image/png": "[encoded data removed]",
      "text/plain": [
       "<Figure size 432x288 with 1 Axes>"
      ]
     },
     "metadata": {
      "needs_background": "light"
     },
     "output_type": "display_data"
    }
   ],
   "source": [
    "# to plot a chart without any tag line\n",
    "plt.plot(a,b)\n",
    "plt.show()"
   ]
  },
  {
   "cell_type": "code",
   "execution_count": 6,
   "id": "0bc9d256",
   "metadata": {},
   "outputs": [],
   "source": [
    "import pandas as pd"
   ]
  },
  {
   "cell_type": "code",
   "execution_count": 7,
   "id": "a33164f7",
   "metadata": {},
   "outputs": [],
   "source": [
    "df = pd.read_csv(\"F:\\DATA SCIENCE\\PANDAS\\student1.csv.xls\")"
   ]
  },
  {
   "cell_type": "code",
   "execution_count": 8,
   "id": "4e5e1e27",
   "metadata": {},
   "outputs": [
    {
     "data": {
      "text/html": [
       "<div>\n",
       "<style scoped>\n",
       "    .dataframe tbody tr th:only-of-type {\n",
       "        vertical-align: middle;\n",
       "    }\n",
       "\n",
       "    .dataframe tbody tr th {\n",
       "        vertical-align: top;\n",
       "    }\n",
       "\n",
       "    .dataframe thead th {\n",
       "        text-align: right;\n",
       "    }\n",
       "</style>\n",
       "<table border=\"1\" class=\"dataframe\">\n",
       "  <thead>\n",
       "    <tr style=\"text-align: right;\">\n",
       "      <th></th>\n",
       "      <th>name</th>\n",
       "      <th>gmat</th>\n",
       "      <th>gpa</th>\n",
       "      <th>exp</th>\n",
       "      <th>admitted</th>\n",
       "      <th>country</th>\n",
       "    </tr>\n",
       "  </thead>\n",
       "  <tbody>\n",
       "    <tr>\n",
       "      <th>0</th>\n",
       "      <td>samir</td>\n",
       "      <td>780</td>\n",
       "      <td>4.0</td>\n",
       "      <td>3</td>\n",
       "      <td>1</td>\n",
       "      <td>Ind</td>\n",
       "    </tr>\n",
       "    <tr>\n",
       "      <th>1</th>\n",
       "      <td>kaushal</td>\n",
       "      <td>750</td>\n",
       "      <td>3.9</td>\n",
       "      <td>4</td>\n",
       "      <td>1</td>\n",
       "      <td>Ind</td>\n",
       "    </tr>\n",
       "    <tr>\n",
       "      <th>2</th>\n",
       "      <td>nandan</td>\n",
       "      <td>690</td>\n",
       "      <td>3.3</td>\n",
       "      <td>3</td>\n",
       "      <td>0</td>\n",
       "      <td>Ind</td>\n",
       "    </tr>\n",
       "    <tr>\n",
       "      <th>3</th>\n",
       "      <td>ankit</td>\n",
       "      <td>710</td>\n",
       "      <td>3.7</td>\n",
       "      <td>5</td>\n",
       "      <td>1</td>\n",
       "      <td>us</td>\n",
       "    </tr>\n",
       "    <tr>\n",
       "      <th>4</th>\n",
       "      <td>deepika</td>\n",
       "      <td>680</td>\n",
       "      <td>3.9</td>\n",
       "      <td>4</td>\n",
       "      <td>0</td>\n",
       "      <td>Ind</td>\n",
       "    </tr>\n",
       "    <tr>\n",
       "      <th>5</th>\n",
       "      <td>kshama</td>\n",
       "      <td>730</td>\n",
       "      <td>3.7</td>\n",
       "      <td>6</td>\n",
       "      <td>1</td>\n",
       "      <td>Ind</td>\n",
       "    </tr>\n",
       "    <tr>\n",
       "      <th>6</th>\n",
       "      <td>gaurav</td>\n",
       "      <td>690</td>\n",
       "      <td>2.3</td>\n",
       "      <td>1</td>\n",
       "      <td>0</td>\n",
       "      <td>us</td>\n",
       "    </tr>\n",
       "    <tr>\n",
       "      <th>7</th>\n",
       "      <td>john</td>\n",
       "      <td>720</td>\n",
       "      <td>3.3</td>\n",
       "      <td>4</td>\n",
       "      <td>1</td>\n",
       "      <td>us</td>\n",
       "    </tr>\n",
       "    <tr>\n",
       "      <th>8</th>\n",
       "      <td>nida</td>\n",
       "      <td>740</td>\n",
       "      <td>3.3</td>\n",
       "      <td>5</td>\n",
       "      <td>1</td>\n",
       "      <td>Ind</td>\n",
       "    </tr>\n",
       "    <tr>\n",
       "      <th>9</th>\n",
       "      <td>samir</td>\n",
       "      <td>690</td>\n",
       "      <td>1.7</td>\n",
       "      <td>1</td>\n",
       "      <td>0</td>\n",
       "      <td>Ind</td>\n",
       "    </tr>\n",
       "    <tr>\n",
       "      <th>10</th>\n",
       "      <td>kaushal</td>\n",
       "      <td>610</td>\n",
       "      <td>2.7</td>\n",
       "      <td>3</td>\n",
       "      <td>0</td>\n",
       "      <td>Ind</td>\n",
       "    </tr>\n",
       "    <tr>\n",
       "      <th>11</th>\n",
       "      <td>nandan</td>\n",
       "      <td>690</td>\n",
       "      <td>3.7</td>\n",
       "      <td>5</td>\n",
       "      <td>1</td>\n",
       "      <td>Ind</td>\n",
       "    </tr>\n",
       "    <tr>\n",
       "      <th>12</th>\n",
       "      <td>ankit</td>\n",
       "      <td>710</td>\n",
       "      <td>3.7</td>\n",
       "      <td>6</td>\n",
       "      <td>1</td>\n",
       "      <td>us</td>\n",
       "    </tr>\n",
       "    <tr>\n",
       "      <th>13</th>\n",
       "      <td>deepika</td>\n",
       "      <td>680</td>\n",
       "      <td>3.3</td>\n",
       "      <td>4</td>\n",
       "      <td>0</td>\n",
       "      <td>Ind</td>\n",
       "    </tr>\n",
       "    <tr>\n",
       "      <th>14</th>\n",
       "      <td>kshama</td>\n",
       "      <td>770</td>\n",
       "      <td>3.3</td>\n",
       "      <td>3</td>\n",
       "      <td>1</td>\n",
       "      <td>Ind</td>\n",
       "    </tr>\n",
       "    <tr>\n",
       "      <th>15</th>\n",
       "      <td>gaurav</td>\n",
       "      <td>510</td>\n",
       "      <td>3.0</td>\n",
       "      <td>1</td>\n",
       "      <td>0</td>\n",
       "      <td>Ind</td>\n",
       "    </tr>\n",
       "    <tr>\n",
       "      <th>16</th>\n",
       "      <td>john</td>\n",
       "      <td>580</td>\n",
       "      <td>2.7</td>\n",
       "      <td>4</td>\n",
       "      <td>0</td>\n",
       "      <td>Ind</td>\n",
       "    </tr>\n",
       "    <tr>\n",
       "      <th>17</th>\n",
       "      <td>nida</td>\n",
       "      <td>650</td>\n",
       "      <td>3.7</td>\n",
       "      <td>6</td>\n",
       "      <td>1</td>\n",
       "      <td>Ind</td>\n",
       "    </tr>\n",
       "    <tr>\n",
       "      <th>18</th>\n",
       "      <td>samir</td>\n",
       "      <td>540</td>\n",
       "      <td>2.7</td>\n",
       "      <td>24</td>\n",
       "      <td>0</td>\n",
       "      <td>Ind</td>\n",
       "    </tr>\n",
       "    <tr>\n",
       "      <th>19</th>\n",
       "      <td>kaushal</td>\n",
       "      <td>590</td>\n",
       "      <td>2.3</td>\n",
       "      <td>3</td>\n",
       "      <td>0</td>\n",
       "      <td>Ind</td>\n",
       "    </tr>\n",
       "    <tr>\n",
       "      <th>20</th>\n",
       "      <td>nandan</td>\n",
       "      <td>620</td>\n",
       "      <td>3.3</td>\n",
       "      <td>2</td>\n",
       "      <td>1</td>\n",
       "      <td>us</td>\n",
       "    </tr>\n",
       "    <tr>\n",
       "      <th>21</th>\n",
       "      <td>ankit</td>\n",
       "      <td>600</td>\n",
       "      <td>2.0</td>\n",
       "      <td>1</td>\n",
       "      <td>0</td>\n",
       "      <td>Ind</td>\n",
       "    </tr>\n",
       "    <tr>\n",
       "      <th>22</th>\n",
       "      <td>deepika</td>\n",
       "      <td>550</td>\n",
       "      <td>2.3</td>\n",
       "      <td>4</td>\n",
       "      <td>0</td>\n",
       "      <td>Ind</td>\n",
       "    </tr>\n",
       "    <tr>\n",
       "      <th>23</th>\n",
       "      <td>kshama</td>\n",
       "      <td>550</td>\n",
       "      <td>2.7</td>\n",
       "      <td>1</td>\n",
       "      <td>0</td>\n",
       "      <td>Ind</td>\n",
       "    </tr>\n",
       "    <tr>\n",
       "      <th>24</th>\n",
       "      <td>gaurav</td>\n",
       "      <td>570</td>\n",
       "      <td>3.0</td>\n",
       "      <td>2</td>\n",
       "      <td>0</td>\n",
       "      <td>us</td>\n",
       "    </tr>\n",
       "    <tr>\n",
       "      <th>25</th>\n",
       "      <td>john</td>\n",
       "      <td>670</td>\n",
       "      <td>3.3</td>\n",
       "      <td>6</td>\n",
       "      <td>1</td>\n",
       "      <td>Ind</td>\n",
       "    </tr>\n",
       "    <tr>\n",
       "      <th>26</th>\n",
       "      <td>nida</td>\n",
       "      <td>660</td>\n",
       "      <td>3.7</td>\n",
       "      <td>4</td>\n",
       "      <td>1</td>\n",
       "      <td>Ind</td>\n",
       "    </tr>\n",
       "    <tr>\n",
       "      <th>27</th>\n",
       "      <td>samir</td>\n",
       "      <td>580</td>\n",
       "      <td>2.3</td>\n",
       "      <td>2</td>\n",
       "      <td>0</td>\n",
       "      <td>Ind</td>\n",
       "    </tr>\n",
       "    <tr>\n",
       "      <th>28</th>\n",
       "      <td>kaushal</td>\n",
       "      <td>650</td>\n",
       "      <td>3.7</td>\n",
       "      <td>6</td>\n",
       "      <td>1</td>\n",
       "      <td>Ind</td>\n",
       "    </tr>\n",
       "    <tr>\n",
       "      <th>29</th>\n",
       "      <td>nandan</td>\n",
       "      <td>660</td>\n",
       "      <td>3.3</td>\n",
       "      <td>5</td>\n",
       "      <td>1</td>\n",
       "      <td>us</td>\n",
       "    </tr>\n",
       "    <tr>\n",
       "      <th>30</th>\n",
       "      <td>ankit</td>\n",
       "      <td>640</td>\n",
       "      <td>3.0</td>\n",
       "      <td>1</td>\n",
       "      <td>0</td>\n",
       "      <td>Ind</td>\n",
       "    </tr>\n",
       "    <tr>\n",
       "      <th>31</th>\n",
       "      <td>deepika</td>\n",
       "      <td>620</td>\n",
       "      <td>2.7</td>\n",
       "      <td>2</td>\n",
       "      <td>0</td>\n",
       "      <td>Ind</td>\n",
       "    </tr>\n",
       "    <tr>\n",
       "      <th>32</th>\n",
       "      <td>kshama</td>\n",
       "      <td>660</td>\n",
       "      <td>4.0</td>\n",
       "      <td>4</td>\n",
       "      <td>1</td>\n",
       "      <td>Ind</td>\n",
       "    </tr>\n",
       "    <tr>\n",
       "      <th>33</th>\n",
       "      <td>gaurav</td>\n",
       "      <td>660</td>\n",
       "      <td>3.3</td>\n",
       "      <td>6</td>\n",
       "      <td>1</td>\n",
       "      <td>Ind</td>\n",
       "    </tr>\n",
       "    <tr>\n",
       "      <th>34</th>\n",
       "      <td>john</td>\n",
       "      <td>680</td>\n",
       "      <td>3.3</td>\n",
       "      <td>5</td>\n",
       "      <td>1</td>\n",
       "      <td>Ind</td>\n",
       "    </tr>\n",
       "    <tr>\n",
       "      <th>35</th>\n",
       "      <td>nida</td>\n",
       "      <td>650</td>\n",
       "      <td>2.3</td>\n",
       "      <td>1</td>\n",
       "      <td>0</td>\n",
       "      <td>Ind</td>\n",
       "    </tr>\n",
       "    <tr>\n",
       "      <th>36</th>\n",
       "      <td>samir</td>\n",
       "      <td>670</td>\n",
       "      <td>2.7</td>\n",
       "      <td>2</td>\n",
       "      <td>0</td>\n",
       "      <td>us</td>\n",
       "    </tr>\n",
       "    <tr>\n",
       "      <th>37</th>\n",
       "      <td>kaushal</td>\n",
       "      <td>580</td>\n",
       "      <td>3.3</td>\n",
       "      <td>1</td>\n",
       "      <td>0</td>\n",
       "      <td>Ind</td>\n",
       "    </tr>\n",
       "    <tr>\n",
       "      <th>38</th>\n",
       "      <td>nandan</td>\n",
       "      <td>590</td>\n",
       "      <td>1.7</td>\n",
       "      <td>4</td>\n",
       "      <td>0</td>\n",
       "      <td>Ind</td>\n",
       "    </tr>\n",
       "    <tr>\n",
       "      <th>39</th>\n",
       "      <td>ankit</td>\n",
       "      <td>690</td>\n",
       "      <td>3.7</td>\n",
       "      <td>5</td>\n",
       "      <td>1</td>\n",
       "      <td>us</td>\n",
       "    </tr>\n",
       "    <tr>\n",
       "      <th>40</th>\n",
       "      <td>deepika</td>\n",
       "      <td>690</td>\n",
       "      <td>3.7</td>\n",
       "      <td>5</td>\n",
       "      <td>1</td>\n",
       "      <td>Ind</td>\n",
       "    </tr>\n",
       "    <tr>\n",
       "      <th>41</th>\n",
       "      <td>kshama</td>\n",
       "      <td>690</td>\n",
       "      <td>3.7</td>\n",
       "      <td>5</td>\n",
       "      <td>1</td>\n",
       "      <td>Ind</td>\n",
       "    </tr>\n",
       "  </tbody>\n",
       "</table>\n",
       "</div>"
      ],
      "text/plain": [
       "       name  gmat  gpa  exp  admitted country\n",
       "0     samir   780  4.0    3         1     Ind\n",
       "1   kaushal   750  3.9    4         1     Ind\n",
       "2    nandan   690  3.3    3         0     Ind\n",
       "3     ankit   710  3.7    5         1      us\n",
       "4   deepika   680  3.9    4         0     Ind\n",
       "5    kshama   730  3.7    6         1     Ind\n",
       "6    gaurav   690  2.3    1         0      us\n",
       "7      john   720  3.3    4         1      us\n",
       "8      nida   740  3.3    5         1     Ind\n",
       "9     samir   690  1.7    1         0     Ind\n",
       "10  kaushal   610  2.7    3         0     Ind\n",
       "11   nandan   690  3.7    5         1     Ind\n",
       "12    ankit   710  3.7    6         1      us\n",
       "13  deepika   680  3.3    4         0     Ind\n",
       "14   kshama   770  3.3    3         1     Ind\n",
       "15   gaurav   510  3.0    1         0     Ind\n",
       "16     john   580  2.7    4         0     Ind\n",
       "17     nida   650  3.7    6         1     Ind\n",
       "18    samir   540  2.7   24         0     Ind\n",
       "19  kaushal   590  2.3    3         0     Ind\n",
       "20   nandan   620  3.3    2         1      us\n",
       "21    ankit   600  2.0    1         0     Ind\n",
       "22  deepika   550  2.3    4         0     Ind\n",
       "23   kshama   550  2.7    1         0     Ind\n",
       "24   gaurav   570  3.0    2         0      us\n",
       "25     john   670  3.3    6         1     Ind\n",
       "26     nida   660  3.7    4         1     Ind\n",
       "27    samir   580  2.3    2         0     Ind\n",
       "28  kaushal   650  3.7    6         1     Ind\n",
       "29   nandan   660  3.3    5         1      us\n",
       "30    ankit   640  3.0    1         0     Ind\n",
       "31  deepika   620  2.7    2         0     Ind\n",
       "32   kshama   660  4.0    4         1     Ind\n",
       "33   gaurav   660  3.3    6         1     Ind\n",
       "34     john   680  3.3    5         1     Ind\n",
       "35     nida   650  2.3    1         0     Ind\n",
       "36    samir   670  2.7    2         0      us\n",
       "37  kaushal   580  3.3    1         0     Ind\n",
       "38   nandan   590  1.7    4         0     Ind\n",
       "39    ankit   690  3.7    5         1      us\n",
       "40  deepika   690  3.7    5         1     Ind\n",
       "41   kshama   690  3.7    5         1     Ind"
      ]
     },
     "execution_count": 8,
     "metadata": {},
     "output_type": "execute_result"
    }
   ],
   "source": [
    "df"
   ]
  },
  {
   "cell_type": "code",
   "execution_count": 9,
   "id": "a063900c",
   "metadata": {},
   "outputs": [
    {
     "data": {
      "image/png": "[encoded data removed]",
      "text/plain": [
       "<Figure size 432x288 with 1 Axes>"
      ]
     },
     "metadata": {
      "needs_background": "light"
     },
     "output_type": "display_data"
    }
   ],
   "source": [
    "# plotted chart by using the excel file\n",
    "plt.plot(df[\"gpa\"],df[\"exp\"])\n",
    "plt.show()"
   ]
  },
  {
   "cell_type": "code",
   "execution_count": 10,
   "id": "6cb8cb50",
   "metadata": {
    "scrolled": true
   },
   "outputs": [
    {
     "data": {
      "image/png": "[encoded data removed]",
      "text/plain": [
       "<Figure size 432x288 with 1 Axes>"
      ]
     },
     "metadata": {
      "needs_background": "light"
     },
     "output_type": "display_data"
    }
   ],
   "source": [
    "# we can plot chart by using symbols(*,o)\n",
    "x = [1,4,5,6,7,8]\n",
    "y = [3,6,4,5,9,5]\n",
    "plt.plot(x,y,\"*\")\n",
    "plt.show()"
   ]
  },
  {
   "cell_type": "code",
   "execution_count": 11,
   "id": "685b8c1d",
   "metadata": {},
   "outputs": [],
   "source": [
    "# also can change line n also can use symbol\n",
    "# - in \"tab shift\" we can see the other line or color"
   ]
  },
  {
   "cell_type": "code",
   "execution_count": 12,
   "id": "0366f37f",
   "metadata": {},
   "outputs": [
    {
     "data": {
      "image/png": "[encoded data removed]",
      "text/plain": [
       "<Figure size 432x288 with 1 Axes>"
      ]
     },
     "metadata": {
      "needs_background": "light"
     },
     "output_type": "display_data"
    }
   ],
   "source": [
    "# we can plot chart by using symbols(*,o) and we change line\n",
    "# , color,size,shape.\n",
    "# color(c) = \"green\",linestyle(ls)=\"dashed\",marker(m)=\"o\",markersize(ms)=\"12\",marker edge color(mec),linewidth(lw)\n",
    "x = [1,4,5,6,7,8,5,7,6,9,6]\n",
    "y = [3,6,4,5,9,5,2,3,4,7,6]\n",
    "plt.plot(x,y,color=\"green\",linestyle=\"dashed\",marker=\"*\",linewidth=\"2\",mfc=\"red\",markersize=\"12\",mec=\"blue\")\n",
    "plt.show()"
   ]
  },
  {
   "cell_type": "code",
   "execution_count": 13,
   "id": "51224a66",
   "metadata": {},
   "outputs": [
    {
     "data": {
      "image/png": "[encoded data removed]",
      "text/plain": [
       "<Figure size 432x288 with 1 Axes>"
      ]
     },
     "metadata": {
      "needs_background": "light"
     },
     "output_type": "display_data"
    }
   ],
   "source": [
    "# loc(location)\n",
    "# to TAKE label name use axis n label together\n",
    "# to give title name for the chart\n",
    "x = [1,4,5,6,7,8,5,7,6,9,6]\n",
    "y = [3,6,4,5,9,5,2,3,4,7,6]\n",
    "plt.plot(x,y,color=\"green\",linestyle=\"dashed\",marker=\"*\",linewidth=\"2\",mfc=\"red\",markersize=\"12\",mec=\"blue\")\n",
    "plt.xlabel(\"salary\",c=\"b\",loc=\"right\")\n",
    "plt.ylabel(\"cars\",c=\"r\",loc=\"top\")\n",
    "plt.title(\"expense\",loc=\"right\")\n",
    "plt.grid(c=\"r\",ls=\"-.\",lw=\"1\")\n",
    "plt.show()"
   ]
  },
  {
   "cell_type": "code",
   "execution_count": 14,
   "id": "5d60844f",
   "metadata": {},
   "outputs": [],
   "source": [
    "age=[4,5,5,6,12,9,10,4,1]\n",
    "speed=[100,130,140,170,190,170,195,190,150]\n",
    "speed2=[90,95,85,60,70,90,80,110,120]"
   ]
  },
  {
   "cell_type": "code",
   "execution_count": 15,
   "id": "0f12c319",
   "metadata": {},
   "outputs": [
    {
     "data": {
      "image/png": "[encoded data removed]",
      "text/plain": [
       "<Figure size 432x288 with 1 Axes>"
      ]
     },
     "metadata": {
      "needs_background": "light"
     },
     "output_type": "display_data"
    }
   ],
   "source": [
    "# TO add one more data in chart use double scatter function\n",
    "plt.scatter(age,speed,marker=\"s\",c=\"olive\")\n",
    "plt.scatter(age,speed2,marker=\"s\",c=\"purple\")\n",
    "plt.show()"
   ]
  },
  {
   "cell_type": "code",
   "execution_count": 25,
   "id": "b6b75605",
   "metadata": {},
   "outputs": [
    {
     "data": {
      "image/png": "[encoded data removed]",
      "text/plain": [
       "<Figure size 432x288 with 1 Axes>"
      ]
     },
     "metadata": {
      "needs_background": "light"
     },
     "output_type": "display_data"
    }
   ],
   "source": [
    "# to make bar chart in horizontal with width and align\n",
    "x = [\"a\",\"b\",'c','d']\n",
    "y = [6,5,1,9]\n",
    "plt.bar(x,y,width=0.4,align='edge')\n",
    "plt.show()"
   ]
  },
  {
   "cell_type": "code",
   "execution_count": 35,
   "id": "0ef1b500",
   "metadata": {},
   "outputs": [
    {
     "data": {
      "image/png": "[encoded data removed]",
      "text/plain": [
       "<Figure size 432x288 with 1 Axes>"
      ]
     },
     "metadata": {
      "needs_background": "light"
     },
     "output_type": "display_data"
    }
   ],
   "source": [
    "# to make bar chart in vertical with width and height,color,edgecolor(ec),facecolor(fc)\n",
    "# can not change width but can lower the height\n",
    "x=['a','b','c','d']\n",
    "y=[2,4,6,8]\n",
    "plt.barh(x,y,height=0.4,color=\"y\",edgecolor=\"r\",facecolor=\"y\")\n",
    "plt.show()"
   ]
  },
  {
   "cell_type": "code",
   "execution_count": 37,
   "id": "8bd50201",
   "metadata": {},
   "outputs": [],
   "source": [
    "import numpy as np"
   ]
  },
  {
   "cell_type": "code",
   "execution_count": 50,
   "id": "ebd39ec5",
   "metadata": {},
   "outputs": [
    {
     "data": {
      "text/plain": [
       "array([177.46255995, 150.02591802, 125.01174644, 162.17997052,\n",
       "       167.88351728, 131.33388426, 165.94834826, 163.87469117,\n",
       "       152.78842161, 148.75647294, 173.45261215, 149.99191313,\n",
       "       122.83049833, 105.2845627 , 197.09679632, 141.27490375,\n",
       "       153.61141206, 154.66133504, 149.47369769, 180.75471997,\n",
       "       153.6584789 , 165.95584318, 120.37317327, 125.30543023,\n",
       "       139.032434  , 136.61107335, 163.00721733, 203.78094104,\n",
       "       171.11460934, 179.81682481, 146.54886013, 158.04357174,\n",
       "       145.43479895, 160.41224543, 131.9333555 , 146.2236079 ,\n",
       "       123.03443075, 163.13600339, 167.92177777, 134.0204378 ,\n",
       "       164.26899293, 178.17953847, 141.76873909, 131.36037772,\n",
       "       134.38952278, 144.85027237, 127.7312497 , 145.34187042,\n",
       "       170.90465742, 176.59824311, 133.57292892, 123.42310153,\n",
       "       147.27457927, 170.06440245, 135.9538208 , 132.74915287,\n",
       "       163.4892695 , 161.84524182, 124.44345194, 143.08347259,\n",
       "       149.07195967, 159.39997714, 168.21288685, 168.12239776,\n",
       "       161.15801452, 125.09663952, 149.3749806 , 142.30457687,\n",
       "       182.43212014, 149.63006409, 152.90645188, 134.21889625,\n",
       "       156.17112747, 153.96735401, 146.12807191, 159.54846279,\n",
       "       171.87341254, 139.33146156, 158.39621178, 159.38274293,\n",
       "       155.09647902, 139.8245628 , 138.54969945, 127.41496723,\n",
       "       149.16520315, 148.45118746, 146.82942739, 142.62924893,\n",
       "       136.23814034, 114.78390469, 159.14815438, 148.95152871,\n",
       "       155.93395701, 165.63397443, 122.90980423, 145.63748669,\n",
       "       171.15650979, 167.46508966, 149.91496877, 152.06423903,\n",
       "       144.64790946, 116.09286434, 160.76439189, 168.86117826,\n",
       "       125.87286974, 128.65161726, 174.90060313, 192.81844121,\n",
       "       167.57574128, 155.2633916 , 146.35005208, 137.48343678,\n",
       "       134.21840308, 139.40836254, 132.5380007 , 184.42553834,\n",
       "       169.49349041, 147.68409443, 178.42488063, 160.48824481,\n",
       "       142.10554393, 194.72274766, 150.15054252, 152.10909447,\n",
       "       188.85208021, 135.03478068, 170.9535804 , 169.23465728,\n",
       "       144.63712901, 163.39859568, 122.09181333, 157.38053651,\n",
       "       116.67307976, 146.3065778 , 152.94933217, 158.03792991,\n",
       "       109.35410561, 130.55329698, 173.11836521, 140.51743844,\n",
       "       159.69004869, 150.29276667, 137.79327967, 121.66079218,\n",
       "       173.03750162, 144.99172395, 169.02138335, 183.27259173,\n",
       "       174.35565619, 175.30667066, 118.47620056, 121.60984231,\n",
       "       143.5616762 , 141.75287889, 137.5747199 ,  95.70364823,\n",
       "       153.30724861, 142.46006746, 143.57620966, 123.37088208,\n",
       "       158.25306513, 166.08291548, 184.91219961, 150.22509468,\n",
       "       134.92475583, 170.13143976, 128.81182452, 138.91717996,\n",
       "       160.80459155, 210.62841395, 138.93268484, 121.64954972,\n",
       "       145.0596892 , 152.66683569, 106.61369859, 164.79835874,\n",
       "       187.32258786, 189.4372705 , 151.96638497, 126.39874963,\n",
       "       151.07502358, 125.89326803, 169.11915284, 153.96251485,\n",
       "       145.17945408, 126.46217552, 173.14729753, 147.01421234,\n",
       "       135.61617882, 104.69522712, 136.8933674 , 147.58368293,\n",
       "       136.8795607 , 138.39567943, 200.09037425, 131.82911098,\n",
       "       142.79484455, 122.46053577, 171.15148462, 143.00960236])"
      ]
     },
     "execution_count": 50,
     "metadata": {},
     "output_type": "execute_result"
    }
   ],
   "source": [
    "# to take out required samples in chart\n",
    "# (mean std sample)\n",
    "x = np.random.normal(150,20,200)\n",
    "x"
   ]
  },
  {
   "cell_type": "code",
   "execution_count": 62,
   "id": "d0a6d97d",
   "metadata": {},
   "outputs": [
    {
     "data": {
      "image/png": "[encoded data removed]",
      "text/plain": [
       "<Figure size 432x288 with 1 Axes>"
      ]
     },
     "metadata": {
      "needs_background": "light"
     },
     "output_type": "display_data"
    }
   ],
   "source": [
    "# to take histogram chart\n",
    "# bins=bars\n",
    "plt.hist(x,bins=15)\n",
    "plt.show()"
   ]
  },
  {
   "cell_type": "code",
   "execution_count": 65,
   "id": "78b7ddbf",
   "metadata": {},
   "outputs": [],
   "source": [
    "bin=[90,100,120,130,150,155,160,163,165,170,178,180]"
   ]
  },
  {
   "cell_type": "code",
   "execution_count": 69,
   "id": "6929c03c",
   "metadata": {},
   "outputs": [
    {
     "data": {
      "image/png": "[encoded data removed]",
      "text/plain": [
       "<Figure size 432x288 with 1 Axes>"
      ]
     },
     "metadata": {
      "needs_background": "light"
     },
     "output_type": "display_data"
    }
   ],
   "source": [
    "plt.hist(x, bins=bin,color=\"r\")\n",
    "plt.show()"
   ]
  },
  {
   "cell_type": "code",
   "execution_count": 83,
   "id": "77c0dcc4",
   "metadata": {},
   "outputs": [
    {
     "data": {
      "image/png": "[encoded data removed]",
      "text/plain": [
       "<Figure size 432x288 with 1 Axes>"
      ]
     },
     "metadata": {},
     "output_type": "display_data"
    }
   ],
   "source": [
    "# to get the pie chart use pie func. and also use other colors\n",
    "x=['a','b','c','d']\n",
    "y=[40,20,10,30]\n",
    "c=['b','r','coral','purple']\n",
    "plt.pie(y,labels= x,colors= c, explode=[0.0,0.2,0.0,0.0],startangle=90)\n",
    "plt.show()"
   ]
  },
  {
   "cell_type": "code",
   "execution_count": 84,
   "id": "1e60e72e",
   "metadata": {},
   "outputs": [
    {
     "data": {
      "image/png": "[encoded data removed]",
      "text/plain": [
       "<Figure size 432x288 with 1 Axes>"
      ]
     },
     "metadata": {},
     "output_type": "display_data"
    }
   ],
   "source": [
    "x=['a','b','c','d']\n",
    "y=[40,20,10,30]\n",
    "c=['b','r','coral','purple']\n",
    "plt.pie(y,labels= x,colors= c, explode=[0.0,0.2,0.0,0.0],startangle=90,shadow= True)\n",
    "plt.show()"
   ]
  },
  {
   "cell_type": "code",
   "execution_count": 92,
   "id": "d4787c67",
   "metadata": {},
   "outputs": [
    {
     "data": {
      "image/png": "[encoded data removed]",
      "text/plain": [
       "<Figure size 432x288 with 1 Axes>"
      ]
     },
     "metadata": {
      "needs_background": "light"
     },
     "output_type": "display_data"
    }
   ],
   "source": [
    "# in this chart we change color,set the location for name index\n",
    "# and also give names to chart,name in column or row,fontsize,facecolor\n",
    "plt.scatter(age,speed,marker=\"s\",c=\"olive\")\n",
    "plt.scatter(age,speed2,marker=\"s\",c=\"purple\")\n",
    "plt.xlabel(\"age\")\n",
    "plt.ylabel(\"speed\")\n",
    "plt.title(\"car comparison\")\n",
    "plt.legend(['speed','speed1'],loc=\"lower left\",ncol=2,facecolor=\"y\",fontsize=10)\n",
    "plt.show()  "
   ]
  },
  {
   "cell_type": "code",
   "execution_count": null,
   "id": "1e6e0a4b",
   "metadata": {},
   "outputs": [],
   "source": []
  }
 ],
 "metadata": {
  "kernelspec": {
   "display_name": "Python 3 (ipykernel)",
   "language": "python",
   "name": "python3"
  },
  "language_info": {
   "codemirror_mode": {
    "name": "ipython",
    "version": 3
   },
   "file_extension": ".py",
   "mimetype": "text/x-python",
   "name": "python",
   "nbconvert_exporter": "python",
   "pygments_lexer": "ipython3",
   "version": "3.9.12"
  }
 },
 "nbformat": 4,
 "nbformat_minor": 5
}
