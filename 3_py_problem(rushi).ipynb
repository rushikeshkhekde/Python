{
 "cells": [
  {
   "cell_type": "code",
   "execution_count": 1,
   "id": "386c436b",
   "metadata": {},
   "outputs": [],
   "source": [
    "# Perfect number"
   ]
  },
  {
   "cell_type": "code",
   "execution_count": 2,
   "id": "4c38e137",
   "metadata": {},
   "outputs": [],
   "source": [
    "def is_perfect(k):\n",
    "    if k > 1:\n",
    "        divisor = []\n",
    "        for i in range(1,k-1):\n",
    "            if k % i == 0:\n",
    "                divisor.append(i)\n",
    "        if sum(divisor) == int(k):\n",
    "            return print(k, \"is a perfect number\")\n",
    "        else:\n",
    "            return print(k, \"is not a perfect number\")\n",
    "    else:\n",
    "        return print(k, \"is not a perfect number\")"
   ]
  },
  {
   "cell_type": "code",
   "execution_count": 3,
   "id": "13df3753",
   "metadata": {},
   "outputs": [
    {
     "name": "stdout",
     "output_type": "stream",
     "text": [
      "6 is a perfect number\n"
     ]
    }
   ],
   "source": [
    "is_perfect(6)"
   ]
  },
  {
   "cell_type": "code",
   "execution_count": 4,
   "id": "9b717b0b",
   "metadata": {},
   "outputs": [
    {
     "name": "stdout",
     "output_type": "stream",
     "text": [
      "9 is not a perfect number\n"
     ]
    }
   ],
   "source": [
    "is_perfect(9)"
   ]
  },
  {
   "cell_type": "code",
   "execution_count": 8,
   "id": "4a095289",
   "metadata": {},
   "outputs": [],
   "source": [
    "# Armstrong number"
   ]
  },
  {
   "cell_type": "code",
   "execution_count": 5,
   "id": "b052a2ea",
   "metadata": {},
   "outputs": [],
   "source": [
    "def armstrong_num(d):\n",
    "    digits = []\n",
    "    c = d\n",
    "    while c > 0:\n",
    "        digit = c % 10\n",
    "        digits.append(digit)\n",
    "        c //= 10\n",
    "    digit = list(reversed(digits))\n",
    "    a = sum([digits[i]**len(digits) for i in range(len(digits))])\n",
    "    if a == d:\n",
    "        print(d, \"is an Armstrong number\")\n",
    "    else:\n",
    "        print(d, \"is not an Armstrong number\")"
   ]
  },
  {
   "cell_type": "code",
   "execution_count": 6,
   "id": "3a6171e4",
   "metadata": {},
   "outputs": [
    {
     "name": "stdout",
     "output_type": "stream",
     "text": [
      "123 is not an Armstrong number\n"
     ]
    }
   ],
   "source": [
    "armstrong_num(123)"
   ]
  },
  {
   "cell_type": "code",
   "execution_count": 7,
   "id": "20c66c55",
   "metadata": {},
   "outputs": [
    {
     "name": "stdout",
     "output_type": "stream",
     "text": [
      "153 is an Armstrong number\n"
     ]
    }
   ],
   "source": [
    "armstrong_num(153)"
   ]
  },
  {
   "cell_type": "code",
   "execution_count": null,
   "id": "3104e4db",
   "metadata": {},
   "outputs": [],
   "source": []
  }
 ],
 "metadata": {
  "kernelspec": {
   "display_name": "Python 3 (ipykernel)",
   "language": "python",
   "name": "python3"
  },
  "language_info": {
   "codemirror_mode": {
    "name": "ipython",
    "version": 3
   },
   "file_extension": ".py",
   "mimetype": "text/x-python",
   "name": "python",
   "nbconvert_exporter": "python",
   "pygments_lexer": "ipython3",
   "version": "3.9.12"
  }
 },
 "nbformat": 4,
 "nbformat_minor": 5
}
