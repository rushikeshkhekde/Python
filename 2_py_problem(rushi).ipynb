{
 "cells": [
  {
   "cell_type": "code",
   "execution_count": 6,
   "id": "615c465a",
   "metadata": {},
   "outputs": [],
   "source": [
    "# For a given number N check if it is prime or not"
   ]
  },
  {
   "cell_type": "code",
   "execution_count": 7,
   "id": "b5ff22a9",
   "metadata": {},
   "outputs": [],
   "source": [
    "def is_prime(n):\n",
    "    if n < 2:\n",
    "        print(n, \"is not a Prime\")\n",
    "        return False\n",
    "    for i in range(2, int(n**0.5) + 1):\n",
    "        if n % i == 0:\n",
    "            print(n, \"is not a Prime\")\n",
    "            return False\n",
    "    print(n, \"is a Prime\")\n",
    "    return True"
   ]
  },
  {
   "cell_type": "code",
   "execution_count": 25,
   "id": "065c88f5",
   "metadata": {},
   "outputs": [
    {
     "name": "stdout",
     "output_type": "stream",
     "text": [
      "1 is not a Prime\n"
     ]
    },
    {
     "data": {
      "text/plain": [
       "False"
      ]
     },
     "execution_count": 25,
     "metadata": {},
     "output_type": "execute_result"
    }
   ],
   "source": [
    "is_prime(1)"
   ]
  },
  {
   "cell_type": "code",
   "execution_count": 8,
   "id": "1da1206e",
   "metadata": {},
   "outputs": [
    {
     "name": "stdout",
     "output_type": "stream",
     "text": [
      "3 is a Prime\n"
     ]
    },
    {
     "data": {
      "text/plain": [
       "True"
      ]
     },
     "execution_count": 8,
     "metadata": {},
     "output_type": "execute_result"
    }
   ],
   "source": [
    "is_prime(3)"
   ]
  },
  {
   "cell_type": "code",
   "execution_count": 9,
   "id": "460aa75d",
   "metadata": {},
   "outputs": [
    {
     "name": "stdout",
     "output_type": "stream",
     "text": [
      "4 is not a Prime\n"
     ]
    },
    {
     "data": {
      "text/plain": [
       "False"
      ]
     },
     "execution_count": 9,
     "metadata": {},
     "output_type": "execute_result"
    }
   ],
   "source": [
    "is_prime(4)"
   ]
  },
  {
   "cell_type": "code",
   "execution_count": 10,
   "id": "88bdcfd1",
   "metadata": {},
   "outputs": [],
   "source": [
    "# Given a positive integer c. Find the factorial of c."
   ]
  },
  {
   "cell_type": "code",
   "execution_count": 11,
   "id": "ffd19dce",
   "metadata": {},
   "outputs": [],
   "source": [
    "def factorial(c):\n",
    "    a = 1\n",
    "    for i in range(1,c+1):\n",
    "        a *= i\n",
    "    return a"
   ]
  },
  {
   "cell_type": "code",
   "execution_count": 12,
   "id": "9fd936d1",
   "metadata": {},
   "outputs": [
    {
     "data": {
      "text/plain": [
       "120"
      ]
     },
     "execution_count": 12,
     "metadata": {},
     "output_type": "execute_result"
    }
   ],
   "source": [
    "factorial(5)"
   ]
  },
  {
   "cell_type": "code",
   "execution_count": 13,
   "id": "9442acbe",
   "metadata": {},
   "outputs": [
    {
     "data": {
      "text/plain": [
       "3628800"
      ]
     },
     "execution_count": 13,
     "metadata": {},
     "output_type": "execute_result"
    }
   ],
   "source": [
    "factorial(10)"
   ]
  },
  {
   "cell_type": "code",
   "execution_count": 26,
   "id": "7786dea2",
   "metadata": {},
   "outputs": [],
   "source": [
    "# Given two numbers A and B. Find out their LCM and GCD."
   ]
  },
  {
   "cell_type": "code",
   "execution_count": 19,
   "id": "541783df",
   "metadata": {},
   "outputs": [],
   "source": [
    " def gcd(a, b):\n",
    "        if a > b:\n",
    "            while b != 0:\n",
    "                a, b = b, a % b\n",
    "            return a\n",
    "        else:\n",
    "            while a != 0:\n",
    "                b, a = a, b % a\n",
    "            return b"
   ]
  },
  {
   "cell_type": "code",
   "execution_count": 20,
   "id": "f9382a52",
   "metadata": {},
   "outputs": [],
   "source": [
    "def lcm(a, b):\n",
    "    return (a * b) // gcd(a, b)"
   ]
  },
  {
   "cell_type": "code",
   "execution_count": 21,
   "id": "f10b463a",
   "metadata": {},
   "outputs": [
    {
     "data": {
      "text/plain": [
       "1"
      ]
     },
     "execution_count": 21,
     "metadata": {},
     "output_type": "execute_result"
    }
   ],
   "source": [
    "gcd(23, 45)"
   ]
  },
  {
   "cell_type": "code",
   "execution_count": 22,
   "id": "deaf5d31",
   "metadata": {},
   "outputs": [
    {
     "data": {
      "text/plain": [
       "9"
      ]
     },
     "execution_count": 22,
     "metadata": {},
     "output_type": "execute_result"
    }
   ],
   "source": [
    "gcd(243, 45)"
   ]
  },
  {
   "cell_type": "code",
   "execution_count": 23,
   "id": "b7713299",
   "metadata": {},
   "outputs": [
    {
     "data": {
      "text/plain": [
       "3015"
      ]
     },
     "execution_count": 23,
     "metadata": {},
     "output_type": "execute_result"
    }
   ],
   "source": [
    "lcm(45, 67)"
   ]
  },
  {
   "cell_type": "code",
   "execution_count": 24,
   "id": "677776c8",
   "metadata": {},
   "outputs": [
    {
     "data": {
      "text/plain": [
       "12"
      ]
     },
     "execution_count": 24,
     "metadata": {},
     "output_type": "execute_result"
    }
   ],
   "source": [
    "lcm(3,12)"
   ]
  },
  {
   "cell_type": "code",
   "execution_count": null,
   "id": "bb8386c3",
   "metadata": {},
   "outputs": [],
   "source": []
  }
 ],
 "metadata": {
  "kernelspec": {
   "display_name": "Python 3 (ipykernel)",
   "language": "python",
   "name": "python3"
  },
  "language_info": {
   "codemirror_mode": {
    "name": "ipython",
    "version": 3
   },
   "file_extension": ".py",
   "mimetype": "text/x-python",
   "name": "python",
   "nbconvert_exporter": "python",
   "pygments_lexer": "ipython3",
   "version": "3.9.12"
  }
 },
 "nbformat": 4,
 "nbformat_minor": 5
}
