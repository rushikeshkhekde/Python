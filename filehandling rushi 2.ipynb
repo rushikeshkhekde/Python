{
 "cells": [
  {
   "cell_type": "markdown",
   "id": "5140cbdf",
   "metadata": {},
   "source": [
    "# file handling"
   ]
  },
  {
   "cell_type": "markdown",
   "id": "81338467",
   "metadata": {},
   "source": [
    "# r = read mode\n",
    "    - Open file and return a stream. "
   ]
  },
  {
   "cell_type": "code",
   "execution_count": 17,
   "id": "5915288b",
   "metadata": {},
   "outputs": [
    {
     "name": "stdout",
     "output_type": "stream",
     "text": [
      "My best friend is ShubhamMy best friend is ShubhamMy best friend is ShubhamMy best friend is Shubham\n"
     ]
    }
   ],
   "source": [
    "f = open(\"rus.txt\",\"r\")\n",
    "print(f.read())"
   ]
  },
  {
   "cell_type": "code",
   "execution_count": 18,
   "id": "14fdde61",
   "metadata": {},
   "outputs": [
    {
     "name": "stdout",
     "output_type": "stream",
     "text": [
      "My best friend is ShubhamMy best friend is ShubhamMy best friend is ShubhamMy best friend is Shubham\n"
     ]
    }
   ],
   "source": [
    "#\"file open in read mode\"\n",
    "try:\n",
    "    def fileopen(filename = str, mode = str):\n",
    "        try:\n",
    "            f = open(filename, mode)\n",
    "            print(f.read())\n",
    "        except Exception as e:\n",
    "            print(e)\n",
    "    fileopen(\"rus.txt\",\"r\")\n",
    "except Exception as e:\n",
    "    print(e)"
   ]
  },
  {
   "cell_type": "markdown",
   "id": "cde48260",
   "metadata": {},
   "source": [
    "# w = write mode\n",
    "       - Write string to stream."
   ]
  },
  {
   "cell_type": "code",
   "execution_count": 36,
   "id": "eb305501",
   "metadata": {},
   "outputs": [
    {
     "name": "stdout",
     "output_type": "stream",
     "text": [
      "My best friend is Shubham\n"
     ]
    }
   ],
   "source": [
    "try:\n",
    "    def writefile(filename = str, mode = str):\n",
    "        \"file open to write \"\n",
    "        try:\n",
    "            f = open(filename, mode)\n",
    "            f.write(\"My best friend is Shubham\")\n",
    "            f.close()\n",
    "            f = open(filename, \"r\")\n",
    "            print(f.read())\n",
    "        except Exception as e:\n",
    "              print(e)\n",
    "    writefile(\"rus.txt\", \"w\")\n",
    "except Exception as e:\n",
    "            print(e)    "
   ]
  },
  {
   "cell_type": "markdown",
   "id": "0068141e",
   "metadata": {},
   "source": [
    "# A = append mode\n",
    "   - Open the file for writing"
   ]
  },
  {
   "cell_type": "code",
   "execution_count": 40,
   "id": "562fc7a1",
   "metadata": {},
   "outputs": [
    {
     "name": "stdout",
     "output_type": "stream",
     "text": [
      "My best friend is ShubhamMy best friend is Shubhamhe learns data scienceMy best friend is Shubham\n",
      "\n"
     ]
    }
   ],
   "source": [
    "f = open(\"rus.txt\", \"a\")\n",
    "f.write(\"My best friend is Shubham\\n\")\n",
    "f.close()\n",
    "f = open(\"rus.txt\", \"r\")\n",
    "print(f.read())\n"
   ]
  },
  {
   "cell_type": "code",
   "execution_count": 41,
   "id": "96f1fed2",
   "metadata": {},
   "outputs": [
    {
     "name": "stdout",
     "output_type": "stream",
     "text": [
      "My best friend is ShubhamMy best friend is Shubhamhe learns data scienceMy best friend is Shubham\n",
      "he learns data science\n"
     ]
    }
   ],
   "source": [
    "try:\n",
    "    def fileappend(filename = str, mode = str):\n",
    "        \"The data being written will be inserted at the end\"\n",
    "        try:\n",
    "            f = open(filename,mode)\n",
    "            f.write(\"he learns data science\")\n",
    "            f.close()\n",
    "            f = open(\"rus.txt\", \"r\")\n",
    "            print(f.read())\n",
    "        except Exception as e:\n",
    "            print(e)\n",
    "    fileappend(\"rus.txt\", \"a\")\n",
    "except Exception as e:\n",
    "            print(e)            "
   ]
  },
  {
   "cell_type": "markdown",
   "id": "8e4a4731",
   "metadata": {},
   "source": [
    "# x = create mode\n",
    "   - Create mode creates a file only if it doesn't exist."
   ]
  },
  {
   "cell_type": "code",
   "execution_count": 33,
   "id": "df690d6c",
   "metadata": {},
   "outputs": [
    {
     "name": "stdout",
     "output_type": "stream",
     "text": [
      "My best friend is Shubham\n"
     ]
    }
   ],
   "source": [
    "try:\n",
    "    def filecreate(filename = str, mode = str):\n",
    "        try:\n",
    "            f = open(filename,mode)\n",
    "            f.write(\"My best friend is Shubham\")\n",
    "            f.close()\n",
    "            f = open(filename, \"r\")\n",
    "            print(f.read())\n",
    "        except Exception as e:\n",
    "            print(e)\n",
    "    filecreate(\"rushi.txt\", \"x\")\n",
    "except Exception as e:\n",
    "            print(e)            "
   ]
  },
  {
   "cell_type": "code",
   "execution_count": null,
   "id": "a8bb08a2",
   "metadata": {},
   "outputs": [],
   "source": []
  }
 ],
 "metadata": {
  "kernelspec": {
   "display_name": "Python 3 (ipykernel)",
   "language": "python",
   "name": "python3"
  },
  "language_info": {
   "codemirror_mode": {
    "name": "ipython",
    "version": 3
   },
   "file_extension": ".py",
   "mimetype": "text/x-python",
   "name": "python",
   "nbconvert_exporter": "python",
   "pygments_lexer": "ipython3",
   "version": "3.9.12"
  }
 },
 "nbformat": 4,
 "nbformat_minor": 5
}
