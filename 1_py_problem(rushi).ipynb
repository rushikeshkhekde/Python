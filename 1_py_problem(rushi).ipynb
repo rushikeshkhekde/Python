{
 "cells": [
  {
   "cell_type": "code",
   "execution_count": 4,
   "id": "63366dd5",
   "metadata": {},
   "outputs": [],
   "source": [
    "# Given an array arr[] of N integers, calculate the median"
   ]
  },
  {
   "cell_type": "code",
   "execution_count": 1,
   "id": "db5d9438",
   "metadata": {},
   "outputs": [],
   "source": [
    "def median(l):\n",
    "    if len(l)%2 == 0:\n",
    "        a = int(len(l)/2) - 1\n",
    "        return (l[a]+l[a+1])/2 \n",
    "    else:\n",
    "        b = len(l)//2\n",
    "        return l[b]   "
   ]
  },
  {
   "cell_type": "code",
   "execution_count": 2,
   "id": "d777f3f0",
   "metadata": {},
   "outputs": [
    {
     "data": {
      "text/plain": [
       "456"
      ]
     },
     "execution_count": 2,
     "metadata": {},
     "output_type": "execute_result"
    }
   ],
   "source": [
    "l = [123, 234, 456, 567, 678]\n",
    "median(l)"
   ]
  },
  {
   "cell_type": "code",
   "execution_count": 3,
   "id": "0ac50138",
   "metadata": {},
   "outputs": [
    {
     "data": {
      "text/plain": [
       "39.5"
      ]
     },
     "execution_count": 3,
     "metadata": {},
     "output_type": "execute_result"
    }
   ],
   "source": [
    "l1 = [12, 23, 34, 45, 56, 67]\n",
    "median(l1)"
   ]
  },
  {
   "cell_type": "code",
   "execution_count": 5,
   "id": "72d511e1",
   "metadata": {},
   "outputs": [],
   "source": [
    "# Given an integer x, return true if x is a palindrome, and false otherwise."
   ]
  },
  {
   "cell_type": "code",
   "execution_count": 6,
   "id": "837e22e3",
   "metadata": {},
   "outputs": [],
   "source": [
    "def is_palindrome(x):\n",
    "    if int(str(x)[::-1]) == x:\n",
    "        return print(x, \"is a palindrome.\")\n",
    "    else:\n",
    "        return print(x, \"is not a palindrome.\")"
   ]
  },
  {
   "cell_type": "code",
   "execution_count": 7,
   "id": "c387f5cf",
   "metadata": {},
   "outputs": [
    {
     "name": "stdout",
     "output_type": "stream",
     "text": [
      "121 is a palindrome.\n"
     ]
    }
   ],
   "source": [
    "is_palindrome(121)"
   ]
  },
  {
   "cell_type": "code",
   "execution_count": 8,
   "id": "e70fcc2f",
   "metadata": {},
   "outputs": [
    {
     "name": "stdout",
     "output_type": "stream",
     "text": [
      "123 is not a palindrome.\n"
     ]
    }
   ],
   "source": [
    "is_palindrome(123)"
   ]
  },
  {
   "cell_type": "code",
   "execution_count": 9,
   "id": "fc985409",
   "metadata": {},
   "outputs": [],
   "source": [
    "# Given a sorted array of size N and an integer K, find the position at which K is present in the array using binary search"
   ]
  },
  {
   "cell_type": "code",
   "execution_count": 16,
   "id": "1382e04e",
   "metadata": {},
   "outputs": [],
   "source": [
    "def binary_search(l, a):\n",
    "    l1 = []\n",
    "    for i in range(len(l)):\n",
    "        if l[i] == a:\n",
    "            l1.append(i)\n",
    "    if len(l1) == 0:\n",
    "        print(a, \"is not in this list\")\n",
    "        return None\n",
    "    else:\n",
    "        return l1"
   ]
  },
  {
   "cell_type": "code",
   "execution_count": 17,
   "id": "13862b87",
   "metadata": {},
   "outputs": [
    {
     "data": {
      "text/plain": [
       "[2]"
      ]
     },
     "execution_count": 17,
     "metadata": {},
     "output_type": "execute_result"
    }
   ],
   "source": [
    "l = [1,2,3,4,5]\n",
    "binary_search(l,3)"
   ]
  },
  {
   "cell_type": "code",
   "execution_count": 18,
   "id": "7121ab77",
   "metadata": {},
   "outputs": [
    {
     "name": "stdout",
     "output_type": "stream",
     "text": [
      "6 is not in this list\n"
     ]
    }
   ],
   "source": [
    "l = [1,2,3,4,5]\n",
    "binary_search(l,6)"
   ]
  },
  {
   "cell_type": "code",
   "execution_count": 19,
   "id": "5ef5f239",
   "metadata": {},
   "outputs": [],
   "source": [
    "# Given a number and its reverse. Find that number raised to the power of its own reverse"
   ]
  },
  {
   "cell_type": "code",
   "execution_count": 20,
   "id": "06739fdc",
   "metadata": {},
   "outputs": [],
   "source": [
    "def num_raised_rev(a):\n",
    "    b = int(str(a)[::-1])\n",
    "    return print(a**b)"
   ]
  },
  {
   "cell_type": "code",
   "execution_count": 21,
   "id": "028169f6",
   "metadata": {},
   "outputs": [
    {
     "name": "stdout",
     "output_type": "stream",
     "text": [
      "10\n",
      "27\n"
     ]
    }
   ],
   "source": [
    "num_raised_rev(10)\n",
    "num_raised_rev(3)"
   ]
  },
  {
   "cell_type": "code",
   "execution_count": null,
   "id": "571cc544",
   "metadata": {},
   "outputs": [],
   "source": []
  }
 ],
 "metadata": {
  "kernelspec": {
   "display_name": "Python 3 (ipykernel)",
   "language": "python",
   "name": "python3"
  },
  "language_info": {
   "codemirror_mode": {
    "name": "ipython",
    "version": 3
   },
   "file_extension": ".py",
   "mimetype": "text/x-python",
   "name": "python",
   "nbconvert_exporter": "python",
   "pygments_lexer": "ipython3",
   "version": "3.9.12"
  }
 },
 "nbformat": 4,
 "nbformat_minor": 5
}
